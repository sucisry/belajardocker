{
 "cells": [
  {
   "cell_type": "code",
   "execution_count": null,
   "metadata": {},
   "outputs": [
    {
     "ename": "",
     "evalue": "",
     "output_type": "error",
     "traceback": [
      "\u001b[1;31mRunning cells with 'Python 3.10.11' requires the ipykernel package.\n",
      "\u001b[1;31mRun the following command to install 'ipykernel' into the Python environment. \n",
      "\u001b[1;31mCommand: '\"c:/Users/SUCI RAHMAYANTI/AppData/Local/Microsoft/WindowsApps/python3.10.exe\" -m pip install ipykernel -U --user --force-reinstall'"
     ]
    }
   ],
   "source": [
    "!pip install sqlalchemy"
   ]
  },
  {
   "cell_type": "code",
   "execution_count": null,
   "metadata": {},
   "outputs": [],
   "source": [
    "import pandas as pd\n",
    "from sqlalchemy import create_engine"
   ]
  },
  {
   "cell_type": "code",
   "execution_count": null,
   "metadata": {},
   "outputs": [],
   "source": [
    "user      = 'postgres'\n",
    "password  = 'postgres'\n",
    "hostname  = '127.0.0.1'\n",
    "database  = 'postgres'\n",
    "port      = '5436'\n",
    "conn_string = f'postgresql://{user}:{password}@{hostname}:{port}/{database}'\n",
    "engine      = create_engine(conn_string)\n",
    "conn        = engine.connect()\n",
    "\n",
    "# ---------- Buat Ambil dan jadiin Table di database------\n",
    "df = pd.read_csv('https://raw.githubusercontent.com/salbifaza/datasets/main/diamond/diamonds.csv')\n",
    "df = df[['carat','color','clarity']]\n",
    "df.to_sql(\"diamond\",engine, if_exists='replace')\n",
    "\n",
    "# ---------- Ngambil di database buat jadi dataframe ----------\n",
    "query   = \"SELECT * FROM pet\"\n",
    "df_read = pd.read_sql(query,engine)\n",
    "df_read.head()"
   ]
  }
 ],
 "metadata": {
  "kernelspec": {
   "display_name": "Python 3",
   "language": "python",
   "name": "python3"
  },
  "language_info": {
   "name": "python",
   "version": "3.10.11"
  }
 },
 "nbformat": 4,
 "nbformat_minor": 2
}
